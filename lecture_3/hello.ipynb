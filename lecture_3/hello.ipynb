{
 "cells": [
  {
   "cell_type": "markdown",
   "metadata": {},
   "source": [
    "# My first Jupyter Notebook\n",
    "\n",
    "## My first subheading\n",
    "\n",
    "### My first small subheading"
   ]
  },
  {
   "cell_type": "markdown",
   "metadata": {},
   "source": [
    "**pay attention to this text**\n",
    "\n",
    "*also pay attention to me, but I'm nicer*"
   ]
  },
  {
   "cell_type": "markdown",
   "metadata": {},
   "source": [
    "1. Item 1\n",
    "2. Item 2\n",
    "3. Item 3\n",
    "\n",
    "*Get the idea?*"
   ]
  },
  {
   "cell_type": "markdown",
   "metadata": {},
   "source": [
    " $\\sum_{n = 0}^{\\infty} x^n = \\frac{1}{1-x}$"
   ]
  },
  {
   "cell_type": "code",
   "execution_count": 4,
   "metadata": {},
   "outputs": [
    {
     "name": "stdout",
     "output_type": "stream",
     "text": [
      "Be happy today\n"
     ]
    }
   ],
   "source": [
    "msg = \"Be happy today\"\n",
    "print(msg)"
   ]
  }
 ],
 "metadata": {
  "interpreter": {
   "hash": "d465202bdcc3e5cedcc5504432af81a2c5e736d20164aca6721aad41cf301306"
  },
  "kernelspec": {
   "display_name": "Python 3.8.8 64-bit ('base': conda)",
   "name": "python3"
  },
  "language_info": {
   "codemirror_mode": {
    "name": "ipython",
    "version": 3
   },
   "file_extension": ".py",
   "mimetype": "text/x-python",
   "name": "python",
   "nbconvert_exporter": "python",
   "pygments_lexer": "ipython3",
   "version": "3.8.8"
  },
  "orig_nbformat": 4
 },
 "nbformat": 4,
 "nbformat_minor": 2
}
